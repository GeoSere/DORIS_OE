{
 "cells": [
  {
   "cell_type": "code",
   "execution_count": null,
   "id": "3304e10f-051a-4cdd-8c8e-ce3d8b8612b4",
   "metadata": {},
   "outputs": [],
   "source": [
    "#EPOS-OC GFZ IMPLEMENTATION \n",
    "# initially, no previous phase observation ...\n",
    "t1=None\n",
    "    \n",
    "# to calculate this we use the nominal frequencies fn_2 and fn_4\n",
    "k_diob = 32    #shift factor for DIOB beacon\n",
    "    \n",
    "feN2, feN4 = beacon_nominal_frequency(k_diob)\n",
    "print(f\"feN2 (2 GHz channel) = {feN2:.9f} Hz\")\n",
    "print(f\"feN4 (400 MHz channel) = {feN4:.9f} Hz\")\n",
    "\n",
    "feN3 = ((feN2**2 - feN4**2) / (feN2 - feN4))\n",
    "sf = (feN2 / feN4)**2\n",
    "\n",
    "print(f\"feN3 (2 GHz channel) = {feN3:.9f} Hz\")\n",
    "lamda_3 = 299792458.0 / feN3\n",
    "# store results here \n",
    "t = []; res_gop=[];\n",
    "\n",
    "# for every block in the RINEX file\n",
    "for block in rnx:\n",
    "    # for every beacon in the block\n",
    "    for beacon, data in block:\n",
    "        # match DIOB\n",
    "        if beacon == diob:\n",
    "            # use the block, RINEX provided clock correction to get to (approximate) TAI\n",
    "            # date TAI = epoch + receiver clock offset\n",
    "            t2 = block.t() + attotime.attotimedelta(nanoseconds=block.clock_offset()*1e9)\n",
    "            # satellite position at the current epoch (taking into account signal travel time)\n",
    "            satx, saty, satz, _, _ = alg.sat_at_emission_time(diob_xyz, t2, intrp, None)\n",
    "            # L1 and L2 measurements\n",
    "            L2_1 = data['L1']['value']\n",
    "            L2_2 = data['L2']['value']\n",
    "            #L3 build\n",
    "            L3 = (sf*L2_1 - math.sqrt(sf)*L2_2)/(sf-1)\n",
    "            # beacon-to-satellite distance\n",
    "            r2 = np.linalg.norm(np.array([satx, saty, satz])-np.array(diob_xyz))\n",
    "            # if we have a previous measurement, within 10 sec ...\n",
    "            if t1 is not None and (t2 - t1).total_seconds() <= 10.:\n",
    "                # computed Doppler cycles\n",
    "                dccom = (r2 - r1) / lamda_3\n",
    "                print(f\"dcmes = {dcmes:.3f}\")\n",
    "                # observed Doppler cycles\n",
    "                dcobs = float((t2-t1).total_nanoseconds()) * ()\n",
    "                print(f\"dcobs = {dcobs:.3f}\")\n",
    "                # very loose outlier detection\n",
    "                if abs(dccom - dcmes) > 100000.:\n",
    "                    pass\n",
    "                else:\n",
    "                    t.append(at2pt(t2))\n",
    "                    res_gop.append(dccom - dcmes)\n",
    "            # prepare for next measurement\n",
    "            r1 = r2\n",
    "            t1 = t2\n",
    "            L1 = L3"
   ]
  }
 ],
 "metadata": {
  "kernelspec": {
   "display_name": "Python 3 (ipykernel)",
   "language": "python",
   "name": "python3"
  },
  "language_info": {
   "codemirror_mode": {
    "name": "ipython",
    "version": 3
   },
   "file_extension": ".py",
   "mimetype": "text/x-python",
   "name": "python",
   "nbconvert_exporter": "python",
   "pygments_lexer": "ipython3",
   "version": "3.12.3"
  }
 },
 "nbformat": 4,
 "nbformat_minor": 5
}
