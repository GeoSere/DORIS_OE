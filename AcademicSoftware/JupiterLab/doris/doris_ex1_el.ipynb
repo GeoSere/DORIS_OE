{
 "cells": [
  {
   "cell_type": "markdown",
   "id": "ecd004e1-5456-42d1-8d0d-99650d60ea84",
   "metadata": {},
   "source": [
    "# Εξαγωγή Δεδομένων DORIS από Αρχεία (DORIS) RINEX\n",
    "\n",
    "Θα χρειστούμε τις παρακάτω βιβλιοθήκες:"
   ]
  },
  {
   "cell_type": "code",
   "execution_count": 21,
   "id": "91bfaa6b-6bf8-4a43-bd05-d29c37bfa071",
   "metadata": {},
   "outputs": [],
   "source": [
    "# import dsoclasses\n",
    "from dsoclasses.rinex.doris.rinex import DorisRinex\n",
    "from dsoclasses.time.pyattotime import at2pt\n",
    "# import modules for plotting ...\n",
    "import matplotlib.pyplot as plt\n",
    "import numpy as np"
   ]
  },
  {
   "cell_type": "markdown",
   "id": "d442297a-82ad-4ad4-95e4-cda2af4f88ac",
   "metadata": {},
   "source": [
    "Το όνομα του αρχείου RINEX που θα χρησιμοποιήσουμε"
   ]
  },
  {
   "cell_type": "code",
   "execution_count": 22,
   "id": "3c3ec2cc-2c78-4ee0-b19f-0ccd231f4617",
   "metadata": {},
   "outputs": [],
   "source": [
    "drinex = \"../data/s6arx24001.001\""
   ]
  },
  {
   "cell_type": "markdown",
   "id": "54cd9f35-853f-467f-bc39-8c7dbef8f825",
   "metadata": {},
   "source": [
    "Δημιουργούμε ένα αντικείμενο τύπου `DorisRinex`. Η αρχικοποίηση θα διαβάσει τις πληροφορίες του header."
   ]
  },
  {
   "cell_type": "code",
   "execution_count": 23,
   "id": "46b2cf1c-7555-4af4-a6e0-82d0e66e0c78",
   "metadata": {},
   "outputs": [],
   "source": [
    "rnx = DorisRinex(drinex)"
   ]
  },
  {
   "cell_type": "markdown",
   "id": "f3e12713-295a-4d42-b727-b8bce7617458",
   "metadata": {},
   "source": [
    "Μπορούμε για παράδειγμα να δούμε όλους τους σταθμούς (beacons) για τους οποίους έχουμε παρατηρήσεις:"
   ]
  },
  {
   "cell_type": "code",
   "execution_count": 24,
   "id": "d0bbba74-0620-4b4b-8c35-963cfa262920",
   "metadata": {},
   "outputs": [
    {
     "name": "stdout",
     "output_type": "stream",
     "text": [
      "Domes 49804S004 Id COBB Name COLD BAY             Type 3 Num D01\n",
      "Domes 40127S009 Id YEMB Name YELLOWKNIFE          Type 4 Num D02\n",
      "Domes 43001S005 Id THUB Name THULE                Type 3 Num D03\n",
      "Domes 40405S043 Id GONC Name GOLDSTONE            Type 4 Num D04\n",
      "Domes 40451S178 Id GRFB Name GREENBELT            Type 3 Num D05\n",
      "Domes 40503S006 Id SOFC Name SOCORRO              Type 3 Num D06\n",
      "Domes 49914S003 Id MIAB Name MIAMI                Type 4 Num D07\n",
      "Domes 41201S002 Id MNAC Name MANAGUA              Type 3 Num D08\n",
      "Domes 42005S003 Id SCSC Name SANTA CRUZ           Type 4 Num D09\n",
      "Domes 97205S001 Id LAOB Name LE LAMENTIN          Type 3 Num D10\n",
      "Domes 97301S006 Id KRWB Name KOUROU               Type 4 Num D11\n",
      "Domes 41508S005 Id SJVC Name SAN JUAN             Type 4 Num D12\n",
      "Domes 41781S001 Id HROC Name HANGA ROA            Type 4 Num D13\n",
      "Domes 41507S008 Id RISC Name RIO GRANDE           Type 3 Num D14\n",
      "Domes 66018S002 Id BEMB Name BELGRANO             Type 3 Num D15\n",
      "Domes 30604S003 Id TRJB Name TRISTAN DA CUNHA     Type 4 Num D16\n",
      "Domes 30313S006 Id MAVC Name MARION ISLAND        Type 4 Num D17\n",
      "Domes 91201S008 Id KEYC Name KERGUELEN            Type 4 Num D18\n",
      "Domes 91401S005 Id AMVB Name AMSTERDAM            Type 4 Num D19\n",
      "Domes 97401S004 Id REVC Name LA REUNION           Type 4 Num D20\n",
      "Domes 39801S006 Id MAIB Name MAHE                 Type 4 Num D21\n",
      "Domes 22901S003 Id MALC Name MALE                 Type 4 Num D22\n",
      "Domes 23101S003 Id CIDB Name CIBINONG             Type 4 Num D23\n",
      "Domes 21602S007 Id JIWC Name JIUFENG              Type 3 Num D24\n",
      "Domes 12334S007 Id KIVC Name KITAB                Type 3 Num D25\n",
      "Domes 40424S009 Id KOLB Name KAUAI                Type 4 Num D26\n",
      "Domes 92301S005 Id RIMC Name RIKITEA              Type 4 Num D27\n",
      "Domes 30302S008 Id HBMB Name HARTEBEESTHOEK       Type 4 Num D28\n",
      "Domes 39901S003 Id DJIB Name DJIBOUTI             Type 4 Num D29\n",
      "Domes 12618S002 Id GAVC Name GAVDOS               Type 4 Num D30\n",
      "Domes 12602S012 Id DIOB Name DIONYSOS             Type 4 Num D31\n",
      "Domes 10503S016 Id MEUB Name METSAHOVI            Type 4 Num D32\n",
      "Domes 10338S004 Id SVBC Name NY-ALESUND II        Type 4 Num D33\n",
      "Domes 92201S010 Id PAUB Name PAPEETE              Type 3 Num D34\n",
      "Domes 30606S004 Id HEMB Name ST HELENA            Type 4 Num D35\n",
      "Domes 32809S004 Id LICB Name LIBREVILLE           Type 3 Num D36\n",
      "Domes 10003S005 Id TLSB Name TOULOUSE             Type 4 Num D37\n",
      "Domes 10002S019 Id GR4B Name GRASSE               Type 4 Num D38\n",
      "Domes 50305S001 Id BETB Name BETIO                Type 3 Num D39\n",
      "Domes 92701S005 Id NOXC Name NOUMEA               Type 4 Num D40\n",
      "Domes 50253S002 Id OWFC Name OWENGA               Type 4 Num D41\n",
      "Domes 30602S005 Id ASEB Name ASCENSION            Type 3 Num D42\n",
      "Domes 10003S006 Id TSTC Name TEST-FERMAT          Type 4 Num D43\n",
      "Domes 31906S004 Id PDOC Name PONTA DELGADA        Type 4 Num D44\n",
      "Domes 82301S001 Id MLAC Name MANGILAO             Type 3 Num D45\n",
      "Domes 22006S002 Id MANB Name MANILLE              Type 3 Num D46\n",
      "Domes 50119S004 Id MSPB Name MOUNT STROMLO        Type 4 Num D47\n",
      "Domes 91501S005 Id ADHC Name TERRE ADELIE         Type 3 Num D48\n",
      "Domes 40101S004 Id STKC Name ST JOHN'S            Type 4 Num D49\n",
      "Domes 50107S011 Id YASB Name YARAGADEE            Type 4 Num D50\n"
     ]
    }
   ],
   "source": [
    "for beacon in rnx.beacons:\n",
    "    print('Domes {:9s} Id {:4s} Name {:20s} Type {:1d} Num {:3s}'.format(\n",
    "        beacon['domes'], beacon['id'], beacon['name'], beacon['type'], beacon['num']))"
   ]
  },
  {
   "cell_type": "markdown",
   "id": "8802dbaa-0d96-4313-a8ea-d6a726887447",
   "metadata": {},
   "source": [
    "Μπορούμε τώρα να προσπελάσουμε το αρχείο, ανά data block (ίδια εποχή, `for block in rnx`) και σταθμό (μέσα στο data block, `for beacon, data in block:`). Θα διαλέξουμε τον σταθμό στον Διόνυσο (βλ. παραπάνω) και θα δούμε τις καταγραφές της θερμοκρασίας. "
   ]
  },
  {
   "cell_type": "code",
   "execution_count": 25,
   "id": "896b7ad0-6531-4174-a392-034b4ca63407",
   "metadata": {},
   "outputs": [],
   "source": [
    "# DORIS beacon\n",
    "diob = 'D31'\n",
    "\n",
    "# θα αποθηκεύσουμε τα δεδομένα εδώ\n",
    "t = []; T = [];\n",
    "\n",
    "# για κάθε data block στον RINEX ...\n",
    "for block in rnx:\n",
    "    # για κάθε σταθμό στο data block ...\n",
    "    for beacon, data in block:\n",
    "        # η μεταβλητή beacon έχει την ονομασία του σταθμού (π.χ. 'D01') ενώ το data\n",
    "        # τη λίστα των παρατηρήσεων, π.χ.\n",
    "        # {'L1': {'value': -2446791.601, 'm1': None, 'm2': None}, 'L2': {'value': -3849973.536, 'm1': None, 'm2': None}, 'C1': ..., 'H': {'value': 70.005, 'm1': None, 'm2': 1}}\n",
    "        if beacon == diob:\n",
    "            # βρήκαμε τον Διόνυσο !\n",
    "            # print(\"{:} {:.2f}\".format(block.t().strftime(\"%y/%m/%d %H:%M:%S\"), data['T']['value']))\n",
    "            t.append(block.t())\n",
    "            T.append(data['T']['value'])"
   ]
  },
  {
   "cell_type": "code",
   "execution_count": 26,
   "id": "8feb3c44-9bf6-43dd-a20d-1dabc636cfb1",
   "metadata": {},
   "outputs": [
    {
     "data": {
      "image/png": "[encoded data removed]",
      "text/plain": [
       "<Figure size 640x480 with 1 Axes>"
      ]
     },
     "metadata": {},
     "output_type": "display_data"
    }
   ],
   "source": [
    "# create a scatterplot of extracted Temperature values w.r.t. time\n",
    "plt.scatter([at2pt(ti) for ti in t], T, alpha=0.5)\n",
    "plt.grid(color='0.95')\n",
    "plt.ylabel(\"Measured Temperature at {:}\".format(diob))\n",
    "plt.title(\"Satellite {:}\".format(rnx.sat_name))\n",
    "plt.show()"
   ]
  },
  {
   "cell_type": "code",
   "execution_count": null,
   "id": "67e9adeb-9706-4be9-b767-ff290b4e75f6",
   "metadata": {},
   "outputs": [],
   "source": []
  }
 ],
 "metadata": {
  "kernelspec": {
   "display_name": "Python 3 (ipykernel)",
   "language": "python",
   "name": "python3"
  },
  "language_info": {
   "codemirror_mode": {
    "name": "ipython",
    "version": 3
   },
   "file_extension": ".py",
   "mimetype": "text/x-python",
   "name": "python",
   "nbconvert_exporter": "python",
   "pygments_lexer": "ipython3",
   "version": "3.12.9"
  }
 },
 "nbformat": 4,
 "nbformat_minor": 5
}
